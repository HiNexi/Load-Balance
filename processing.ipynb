{
 "cells": [
  {
   "cell_type": "code",
   "execution_count": 18,
   "id": "initial_id",
   "metadata": {
    "collapsed": true,
    "ExecuteTime": {
     "end_time": "2023-09-13T13:48:10.564283Z",
     "start_time": "2023-09-13T13:48:09.156875Z"
    }
   },
   "outputs": [],
   "source": [
    "import pandas as pd\n",
    "\n",
    "apfs_df = pd.read_csv(r'Initial_data/ac_power_from_storage.csv')\n",
    "apts_df = pd.read_csv(r'Initial_data/ac_power_to_storage.csv')\n",
    "gc_df = pd.read_csv(r'Initial_data/grid_consumption.csv')\n",
    "gf_df = pd.read_csv(r'Initial_data/grid_feed.csv')\n",
    "pp_df = pd.read_csv(r'Initial_data/pv_production.csv')\n"
   ]
  },
  {
   "cell_type": "markdown",
   "source": [],
   "metadata": {
    "collapsed": false
   },
   "id": "d82b76ca2ebf878e"
  },
  {
   "cell_type": "code",
   "execution_count": 19,
   "outputs": [],
   "source": [
    "'''Преобразуем колонку time в тип времени'''\n",
    "\n",
    "apfs_df['time'] = pd.to_datetime(apfs_df['time'])\n",
    "apts_df['time'] = pd.to_datetime(apts_df['time'])\n",
    "gc_df['time'] = pd.to_datetime(gc_df['time'])\n",
    "gf_df['time'] = pd.to_datetime(gf_df['time'])\n",
    "pp_df['time'] = pd.to_datetime(pp_df['time'])\n",
    "\n",
    "'''Устанавливаем время в качестве индекса'''\n",
    "\n",
    "apfs_df.set_index('time', inplace=True)\n",
    "apts_df.set_index('time', inplace=True)\n",
    "gc_df.set_index('time', inplace=True)\n",
    "gf_df.set_index('time', inplace=True)\n",
    "pp_df.set_index('time', inplace=True)\n",
    "\n",
    "\n",
    "'''Преобразуем колонку значений в тип float'''\n",
    "\n",
    "apfs_df['ac_power_from_storage'] = apfs_df['ac_power_from_storage'].astype(float)\n",
    "apts_df['ac_power_to_storage'] = apts_df['ac_power_to_storage'].astype(float)\n",
    "gc_df['grid_consumption'] = gc_df['grid_consumption'].astype(float)\n",
    "gf_df['grid_feed'] = gf_df['grid_feed'].astype(float)\n",
    "pp_df['pv_production'] = pp_df['pv_production'].astype(float)\n"
   ],
   "metadata": {
    "collapsed": false,
    "ExecuteTime": {
     "end_time": "2023-09-13T13:48:22.938508Z",
     "start_time": "2023-09-13T13:48:12.131010Z"
    }
   },
   "id": "3ad73b87351bba15"
  },
  {
   "cell_type": "code",
   "execution_count": 9,
   "outputs": [
    {
     "name": "stdout",
     "output_type": "stream",
     "text": [
      "                           ac_power_from_storage\n",
      "time                                            \n",
      "2016-06-10 16:53:00+00:00                 7460.0\n",
      "2016-06-10 16:58:00+00:00                 5890.0\n",
      "2016-06-10 17:03:00+00:00                 5870.0\n",
      "2016-06-10 17:08:00+00:00                 1160.0\n",
      "2016-06-10 17:13:00+00:00                 8410.0\n",
      "...                                          ...\n",
      "2023-09-11 14:50:30+00:00                    0.0\n",
      "2023-09-11 14:55:30+00:00                    0.0\n",
      "2023-09-11 15:00:30+00:00                    0.0\n",
      "2023-09-11 15:05:30+00:00                    0.0\n",
      "2023-09-11 15:10:30+00:00                    0.0\n",
      "\n",
      "[622416 rows x 1 columns]\n"
     ]
    }
   ],
   "source": [
    "print(apfs_df)"
   ],
   "metadata": {
    "collapsed": false,
    "ExecuteTime": {
     "end_time": "2023-09-12T16:28:01.012635Z",
     "start_time": "2023-09-12T16:28:01.005060Z"
    }
   },
   "id": "6b62512a80a3be37"
  },
  {
   "cell_type": "code",
   "execution_count": 20,
   "outputs": [],
   "source": [
    "'''Группируем время чтобы получить равные промежутки'''\n",
    "\n",
    "time_group = '5T' # интервал группировки 5 минут\n",
    "\n",
    "g_apfs_df = apfs_df.resample('5T').sum()\n",
    "g_apts_df = apts_df.resample('5T').sum()\n",
    "g_gc_df = gc_df.resample('5T').sum()\n",
    "g_gf_df = gf_df.resample('5T').sum()\n",
    "g_pp_df = pp_df.resample('5T').sum()\n"
   ],
   "metadata": {
    "collapsed": false,
    "ExecuteTime": {
     "end_time": "2023-09-13T13:48:24.786317Z",
     "start_time": "2023-09-13T13:48:24.627117Z"
    }
   },
   "id": "6ce6a43f1093d373"
  },
  {
   "cell_type": "code",
   "execution_count": 22,
   "outputs": [
    {
     "name": "stdout",
     "output_type": "stream",
     "text": [
      "                           pv_production\n",
      "time                                    \n",
      "2016-06-10 16:50:00+00:00        20832.8\n",
      "2016-06-10 16:55:00+00:00        21650.2\n",
      "2016-06-10 17:00:00+00:00        16588.1\n",
      "2016-06-10 17:05:00+00:00        21694.7\n",
      "2016-06-10 17:10:00+00:00        14891.5\n",
      "...                                  ...\n",
      "2023-09-11 14:50:00+00:00        19804.1\n",
      "2023-09-11 14:55:00+00:00        19820.1\n",
      "2023-09-11 15:00:00+00:00        25236.2\n",
      "2023-09-11 15:05:00+00:00        25651.4\n",
      "2023-09-11 15:10:00+00:00        24535.1\n",
      "\n",
      "[762893 rows x 1 columns]\n"
     ]
    }
   ],
   "source": [
    "print(g_pp_df)"
   ],
   "metadata": {
    "collapsed": false,
    "ExecuteTime": {
     "end_time": "2023-09-13T13:49:34.537080Z",
     "start_time": "2023-09-13T13:49:34.453774Z"
    }
   },
   "id": "4b17e22de4be11a8"
  },
  {
   "cell_type": "code",
   "execution_count": 23,
   "outputs": [
    {
     "ename": "KeyError",
     "evalue": "'ac_power_from_storage'",
     "output_type": "error",
     "traceback": [
      "\u001B[0;31m---------------------------------------------------------------------------\u001B[0m",
      "\u001B[0;31mKeyError\u001B[0m                                  Traceback (most recent call last)",
      "File \u001B[0;32m/Library/Frameworks/Python.framework/Versions/3.11/lib/python3.11/site-packages/pandas/core/indexes/base.py:3790\u001B[0m, in \u001B[0;36mIndex.get_loc\u001B[0;34m(self, key)\u001B[0m\n\u001B[1;32m   3789\u001B[0m \u001B[38;5;28;01mtry\u001B[39;00m:\n\u001B[0;32m-> 3790\u001B[0m     \u001B[38;5;28;01mreturn\u001B[39;00m \u001B[38;5;28;43mself\u001B[39;49m\u001B[38;5;241;43m.\u001B[39;49m\u001B[43m_engine\u001B[49m\u001B[38;5;241;43m.\u001B[39;49m\u001B[43mget_loc\u001B[49m\u001B[43m(\u001B[49m\u001B[43mcasted_key\u001B[49m\u001B[43m)\u001B[49m\n\u001B[1;32m   3791\u001B[0m \u001B[38;5;28;01mexcept\u001B[39;00m \u001B[38;5;167;01mKeyError\u001B[39;00m \u001B[38;5;28;01mas\u001B[39;00m err:\n",
      "File \u001B[0;32mindex.pyx:152\u001B[0m, in \u001B[0;36mpandas._libs.index.IndexEngine.get_loc\u001B[0;34m()\u001B[0m\n",
      "File \u001B[0;32mindex.pyx:181\u001B[0m, in \u001B[0;36mpandas._libs.index.IndexEngine.get_loc\u001B[0;34m()\u001B[0m\n",
      "File \u001B[0;32mpandas/_libs/hashtable_class_helper.pxi:7080\u001B[0m, in \u001B[0;36mpandas._libs.hashtable.PyObjectHashTable.get_item\u001B[0;34m()\u001B[0m\n",
      "File \u001B[0;32mpandas/_libs/hashtable_class_helper.pxi:7088\u001B[0m, in \u001B[0;36mpandas._libs.hashtable.PyObjectHashTable.get_item\u001B[0;34m()\u001B[0m\n",
      "\u001B[0;31mKeyError\u001B[0m: 'ac_power_from_storage'",
      "\nThe above exception was the direct cause of the following exception:\n",
      "\u001B[0;31mKeyError\u001B[0m                                  Traceback (most recent call last)",
      "Cell \u001B[0;32mIn[23], line 15\u001B[0m\n\u001B[1;32m     13\u001B[0m P_fs \u001B[38;5;241m=\u001B[39m g_apfs_df[\u001B[38;5;124m'\u001B[39m\u001B[38;5;124mac_power_from_storage\u001B[39m\u001B[38;5;124m'\u001B[39m][iteration_date]\n\u001B[1;32m     14\u001B[0m P_tu \u001B[38;5;241m=\u001B[39m g_gf_df[\u001B[38;5;124m'\u001B[39m\u001B[38;5;124mgrid_feed\u001B[39m\u001B[38;5;124m'\u001B[39m][iteration_date]\n\u001B[0;32m---> 15\u001B[0m P_ts \u001B[38;5;241m=\u001B[39m \u001B[43mg_apts_df\u001B[49m\u001B[43m[\u001B[49m\u001B[38;5;124;43m'\u001B[39;49m\u001B[38;5;124;43mac_power_from_storage\u001B[39;49m\u001B[38;5;124;43m'\u001B[39;49m\u001B[43m]\u001B[49m[iteration_date]\n\u001B[1;32m     17\u001B[0m P_l \u001B[38;5;241m=\u001B[39m P_pv \u001B[38;5;241m+\u001B[39m P_fu \u001B[38;5;241m+\u001B[39m P_fs \u001B[38;5;241m-\u001B[39m (P_tu \u001B[38;5;241m+\u001B[39m P_ts)\n\u001B[1;32m     19\u001B[0m df_P_l \u001B[38;5;241m=\u001B[39m df_P_l\u001B[38;5;241m.\u001B[39mappend({\u001B[38;5;124m'\u001B[39m\u001B[38;5;124mtime\u001B[39m\u001B[38;5;124m'\u001B[39m: iteration_date , \u001B[38;5;124m'\u001B[39m\u001B[38;5;124mP_l\u001B[39m\u001B[38;5;124m'\u001B[39m: P_l}, ignore_index\u001B[38;5;241m=\u001B[39m\u001B[38;5;28;01mTrue\u001B[39;00m)\n",
      "File \u001B[0;32m/Library/Frameworks/Python.framework/Versions/3.11/lib/python3.11/site-packages/pandas/core/frame.py:3896\u001B[0m, in \u001B[0;36mDataFrame.__getitem__\u001B[0;34m(self, key)\u001B[0m\n\u001B[1;32m   3894\u001B[0m \u001B[38;5;28;01mif\u001B[39;00m \u001B[38;5;28mself\u001B[39m\u001B[38;5;241m.\u001B[39mcolumns\u001B[38;5;241m.\u001B[39mnlevels \u001B[38;5;241m>\u001B[39m \u001B[38;5;241m1\u001B[39m:\n\u001B[1;32m   3895\u001B[0m     \u001B[38;5;28;01mreturn\u001B[39;00m \u001B[38;5;28mself\u001B[39m\u001B[38;5;241m.\u001B[39m_getitem_multilevel(key)\n\u001B[0;32m-> 3896\u001B[0m indexer \u001B[38;5;241m=\u001B[39m \u001B[38;5;28;43mself\u001B[39;49m\u001B[38;5;241;43m.\u001B[39;49m\u001B[43mcolumns\u001B[49m\u001B[38;5;241;43m.\u001B[39;49m\u001B[43mget_loc\u001B[49m\u001B[43m(\u001B[49m\u001B[43mkey\u001B[49m\u001B[43m)\u001B[49m\n\u001B[1;32m   3897\u001B[0m \u001B[38;5;28;01mif\u001B[39;00m is_integer(indexer):\n\u001B[1;32m   3898\u001B[0m     indexer \u001B[38;5;241m=\u001B[39m [indexer]\n",
      "File \u001B[0;32m/Library/Frameworks/Python.framework/Versions/3.11/lib/python3.11/site-packages/pandas/core/indexes/base.py:3797\u001B[0m, in \u001B[0;36mIndex.get_loc\u001B[0;34m(self, key)\u001B[0m\n\u001B[1;32m   3792\u001B[0m     \u001B[38;5;28;01mif\u001B[39;00m \u001B[38;5;28misinstance\u001B[39m(casted_key, \u001B[38;5;28mslice\u001B[39m) \u001B[38;5;129;01mor\u001B[39;00m (\n\u001B[1;32m   3793\u001B[0m         \u001B[38;5;28misinstance\u001B[39m(casted_key, abc\u001B[38;5;241m.\u001B[39mIterable)\n\u001B[1;32m   3794\u001B[0m         \u001B[38;5;129;01mand\u001B[39;00m \u001B[38;5;28many\u001B[39m(\u001B[38;5;28misinstance\u001B[39m(x, \u001B[38;5;28mslice\u001B[39m) \u001B[38;5;28;01mfor\u001B[39;00m x \u001B[38;5;129;01min\u001B[39;00m casted_key)\n\u001B[1;32m   3795\u001B[0m     ):\n\u001B[1;32m   3796\u001B[0m         \u001B[38;5;28;01mraise\u001B[39;00m InvalidIndexError(key)\n\u001B[0;32m-> 3797\u001B[0m     \u001B[38;5;28;01mraise\u001B[39;00m \u001B[38;5;167;01mKeyError\u001B[39;00m(key) \u001B[38;5;28;01mfrom\u001B[39;00m \u001B[38;5;21;01merr\u001B[39;00m\n\u001B[1;32m   3798\u001B[0m \u001B[38;5;28;01mexcept\u001B[39;00m \u001B[38;5;167;01mTypeError\u001B[39;00m:\n\u001B[1;32m   3799\u001B[0m     \u001B[38;5;66;03m# If we have a listlike key, _check_indexing_error will raise\u001B[39;00m\n\u001B[1;32m   3800\u001B[0m     \u001B[38;5;66;03m#  InvalidIndexError. Otherwise we fall through and re-raise\u001B[39;00m\n\u001B[1;32m   3801\u001B[0m     \u001B[38;5;66;03m#  the TypeError.\u001B[39;00m\n\u001B[1;32m   3802\u001B[0m     \u001B[38;5;28mself\u001B[39m\u001B[38;5;241m.\u001B[39m_check_indexing_error(key)\n",
      "\u001B[0;31mKeyError\u001B[0m: 'ac_power_from_storage'"
     ]
    }
   ],
   "source": [
    "start_date = '2016-06-10 16:50:00+00:00'\n",
    "end_date = '2023-09-12 00:00:00+00:00'\n",
    "\n",
    "columns = ['time', 'P_l']\n",
    "df_P_l = pd.DataFrame(columns=columns)\n",
    "\n",
    "iteration_date = start_date\n",
    "time_delta = pd.Timedelta(minutes=5)\n",
    "\n",
    "while iteration_date < end_date:\n",
    "    P_pv = g_pp_df['pv_production'][iteration_date]\n",
    "    P_fu = g_gc_df['grid_consumption'][iteration_date]\n",
    "    P_fs = g_apfs_df['ac_power_from_storage'][iteration_date]\n",
    "    P_tu = g_gf_df['grid_feed'][iteration_date]\n",
    "    P_ts = g_apts_df['ac_power_from_storage'][iteration_date]\n",
    "    \n",
    "    P_l = P_pv + P_fu + P_fs - (P_tu + P_ts)\n",
    "    \n",
    "    df_P_l = df_P_l.append({'time': iteration_date , 'P_l': P_l}, ignore_index=True)\n",
    "    \n",
    "    iteration_date += time_delta"
   ],
   "metadata": {
    "collapsed": false,
    "ExecuteTime": {
     "end_time": "2023-09-13T14:09:32.811013Z",
     "start_time": "2023-09-13T14:09:32.513795Z"
    }
   },
   "id": "a41135f351f6c11a"
  },
  {
   "cell_type": "code",
   "execution_count": null,
   "outputs": [],
   "source": [],
   "metadata": {
    "collapsed": false
   },
   "id": "c53e7c7e5cc8e7cc"
  }
 ],
 "metadata": {
  "kernelspec": {
   "display_name": "Python 3",
   "language": "python",
   "name": "python3"
  },
  "language_info": {
   "codemirror_mode": {
    "name": "ipython",
    "version": 2
   },
   "file_extension": ".py",
   "mimetype": "text/x-python",
   "name": "python",
   "nbconvert_exporter": "python",
   "pygments_lexer": "ipython2",
   "version": "2.7.6"
  }
 },
 "nbformat": 4,
 "nbformat_minor": 5
}
