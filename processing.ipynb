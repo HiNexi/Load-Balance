{
 "cells": [
  {
   "cell_type": "code",
   "execution_count": 1,
   "id": "initial_id",
   "metadata": {
    "collapsed": true,
    "ExecuteTime": {
     "end_time": "2023-09-13T20:00:57.230805Z",
     "start_time": "2023-09-13T20:00:55.193558Z"
    }
   },
   "outputs": [],
   "source": [
    "import pandas as pd\n",
    "\n",
    "apfs_df = pd.read_csv(r'Initial_data/ac_power_from_storage.csv')\n",
    "apts_df = pd.read_csv(r'Initial_data/ac_power_to_storage.csv')\n",
    "gc_df = pd.read_csv(r'Initial_data/grid_consumption.csv')\n",
    "gf_df = pd.read_csv(r'Initial_data/grid_feed.csv')\n",
    "pp_df = pd.read_csv(r'Initial_data/pv_production.csv')\n"
   ]
  },
  {
   "cell_type": "markdown",
   "source": [],
   "metadata": {
    "collapsed": false
   },
   "id": "d82b76ca2ebf878e"
  },
  {
   "cell_type": "code",
   "execution_count": 2,
   "outputs": [],
   "source": [
    "'''Преобразуем колонку time в тип времени'''\n",
    "\n",
    "apfs_df['time'] = pd.to_datetime(apfs_df['time'])\n",
    "apts_df['time'] = pd.to_datetime(apts_df['time'])\n",
    "gc_df['time'] = pd.to_datetime(gc_df['time'])\n",
    "gf_df['time'] = pd.to_datetime(gf_df['time'])\n",
    "pp_df['time'] = pd.to_datetime(pp_df['time'])\n",
    "\n",
    "'''Устанавливаем время в качестве индекса'''\n",
    "\n",
    "apfs_df.set_index('time', inplace=True)\n",
    "apts_df.set_index('time', inplace=True)\n",
    "gc_df.set_index('time', inplace=True)\n",
    "gf_df.set_index('time', inplace=True)\n",
    "pp_df.set_index('time', inplace=True)\n",
    "\n",
    "\n",
    "'''Преобразуем колонку значений в тип float'''\n",
    "\n",
    "apfs_df['ac_power_from_storage'] = apfs_df['ac_power_from_storage'].astype(float)\n",
    "apts_df['ac_power_to_storage'] = apts_df['ac_power_to_storage'].astype(float)\n",
    "gc_df['grid_consumption'] = gc_df['grid_consumption'].astype(float)\n",
    "gf_df['grid_feed'] = gf_df['grid_feed'].astype(float)\n",
    "pp_df['pv_production'] = pp_df['pv_production'].astype(float)\n"
   ],
   "metadata": {
    "collapsed": false,
    "ExecuteTime": {
     "end_time": "2023-09-13T20:01:07.249390Z",
     "start_time": "2023-09-13T20:00:57.214326Z"
    }
   },
   "id": "3ad73b87351bba15"
  },
  {
   "cell_type": "code",
   "execution_count": 3,
   "outputs": [],
   "source": [
    "'''Группируем время чтобы получить равные промежутки'''\n",
    "\n",
    "time_group = '5T' # интервал группировки 5 минут\n",
    "\n",
    "g_apfs_df = apfs_df.resample('5T').sum()\n",
    "g_apts_df = apts_df.resample('5T').sum()\n",
    "g_gc_df = gc_df.resample('5T').sum()\n",
    "g_gf_df = gf_df.resample('5T').sum()\n",
    "g_pp_df = pp_df.resample('5T').sum()\n"
   ],
   "metadata": {
    "collapsed": false,
    "ExecuteTime": {
     "end_time": "2023-09-13T20:01:07.404639Z",
     "start_time": "2023-09-13T20:01:07.250768Z"
    }
   },
   "id": "6ce6a43f1093d373"
  },
  {
   "cell_type": "code",
   "execution_count": 4,
   "outputs": [
    {
     "name": "stderr",
     "output_type": "stream",
     "text": [
      "/var/folders/z5/wq_n2wnn1d39t43rd8s7f6g00000gn/T/ipykernel_30697/2119290808.py:31: FutureWarning: The behavior of DataFrame concatenation with empty or all-NA entries is deprecated. In a future version, this will no longer exclude empty or all-NA columns when determining the result dtypes. To retain the old behavior, exclude the relevant entries before the concat operation.\n",
      "  df_P_l = pd.concat([df_P_l, pd.DataFrame([new_row1])], ignore_index=True)\n",
      "/var/folders/z5/wq_n2wnn1d39t43rd8s7f6g00000gn/T/ipykernel_30697/2119290808.py:32: FutureWarning: The behavior of DataFrame concatenation with empty or all-NA entries is deprecated. In a future version, this will no longer exclude empty or all-NA columns when determining the result dtypes. To retain the old behavior, exclude the relevant entries before the concat operation.\n",
      "  df_general = pd.concat([df_general, pd.DataFrame([new_row2])], ignore_index=True)\n"
     ]
    },
    {
     "ename": "KeyboardInterrupt",
     "evalue": "",
     "output_type": "error",
     "traceback": [
      "\u001B[0;31m---------------------------------------------------------------------------\u001B[0m",
      "\u001B[0;31mKeyboardInterrupt\u001B[0m                         Traceback (most recent call last)",
      "Cell \u001B[0;32mIn[4], line 31\u001B[0m\n\u001B[1;32m     24\u001B[0m new_row1 \u001B[38;5;241m=\u001B[39m {\u001B[38;5;124m'\u001B[39m\u001B[38;5;124mtime\u001B[39m\u001B[38;5;124m'\u001B[39m: iteration_date, \u001B[38;5;124m'\u001B[39m\u001B[38;5;124mP_l\u001B[39m\u001B[38;5;124m'\u001B[39m: P_l}\n\u001B[1;32m     25\u001B[0m new_row2 \u001B[38;5;241m=\u001B[39m {\n\u001B[1;32m     26\u001B[0m     \u001B[38;5;124m'\u001B[39m\u001B[38;5;124mtime\u001B[39m\u001B[38;5;124m'\u001B[39m: iteration_date,\n\u001B[1;32m     27\u001B[0m     \u001B[38;5;124m'\u001B[39m\u001B[38;5;124mP_pv\u001B[39m\u001B[38;5;124m'\u001B[39m: P_pv, \u001B[38;5;124m'\u001B[39m\u001B[38;5;124mP_fu\u001B[39m\u001B[38;5;124m'\u001B[39m: P_fu, \n\u001B[1;32m     28\u001B[0m     \u001B[38;5;124m'\u001B[39m\u001B[38;5;124mP_fs\u001B[39m\u001B[38;5;124m'\u001B[39m: P_fs, \u001B[38;5;124m'\u001B[39m\u001B[38;5;124mP_tu\u001B[39m\u001B[38;5;124m'\u001B[39m: P_tu, \n\u001B[1;32m     29\u001B[0m     \u001B[38;5;124m'\u001B[39m\u001B[38;5;124mP_ts\u001B[39m\u001B[38;5;124m'\u001B[39m: P_ts, \u001B[38;5;124m'\u001B[39m\u001B[38;5;124mP_l\u001B[39m\u001B[38;5;124m'\u001B[39m: P_l\n\u001B[1;32m     30\u001B[0m }\n\u001B[0;32m---> 31\u001B[0m df_P_l \u001B[38;5;241m=\u001B[39m \u001B[43mpd\u001B[49m\u001B[38;5;241;43m.\u001B[39;49m\u001B[43mconcat\u001B[49m\u001B[43m(\u001B[49m\u001B[43m[\u001B[49m\u001B[43mdf_P_l\u001B[49m\u001B[43m,\u001B[49m\u001B[43m \u001B[49m\u001B[43mpd\u001B[49m\u001B[38;5;241;43m.\u001B[39;49m\u001B[43mDataFrame\u001B[49m\u001B[43m(\u001B[49m\u001B[43m[\u001B[49m\u001B[43mnew_row1\u001B[49m\u001B[43m]\u001B[49m\u001B[43m)\u001B[49m\u001B[43m]\u001B[49m\u001B[43m,\u001B[49m\u001B[43m \u001B[49m\u001B[43mignore_index\u001B[49m\u001B[38;5;241;43m=\u001B[39;49m\u001B[38;5;28;43;01mTrue\u001B[39;49;00m\u001B[43m)\u001B[49m\n\u001B[1;32m     32\u001B[0m df_general \u001B[38;5;241m=\u001B[39m pd\u001B[38;5;241m.\u001B[39mconcat([df_general, pd\u001B[38;5;241m.\u001B[39mDataFrame([new_row2])], ignore_index\u001B[38;5;241m=\u001B[39m\u001B[38;5;28;01mTrue\u001B[39;00m)\n\u001B[1;32m     34\u001B[0m iteration_date \u001B[38;5;241m=\u001B[39m datetime\u001B[38;5;241m.\u001B[39mstrptime(iteration_date, \u001B[38;5;124m'\u001B[39m\u001B[38;5;124m%\u001B[39m\u001B[38;5;124mY-\u001B[39m\u001B[38;5;124m%\u001B[39m\u001B[38;5;124mm-\u001B[39m\u001B[38;5;132;01m%d\u001B[39;00m\u001B[38;5;124m \u001B[39m\u001B[38;5;124m%\u001B[39m\u001B[38;5;124mH:\u001B[39m\u001B[38;5;124m%\u001B[39m\u001B[38;5;124mM:\u001B[39m\u001B[38;5;124m%\u001B[39m\u001B[38;5;124mS\u001B[39m\u001B[38;5;124m%\u001B[39m\u001B[38;5;124mz\u001B[39m\u001B[38;5;124m'\u001B[39m)\n",
      "File \u001B[0;32m/Library/Frameworks/Python.framework/Versions/3.11/lib/python3.11/site-packages/pandas/core/reshape/concat.py:393\u001B[0m, in \u001B[0;36mconcat\u001B[0;34m(objs, axis, join, ignore_index, keys, levels, names, verify_integrity, sort, copy)\u001B[0m\n\u001B[1;32m    378\u001B[0m     copy \u001B[38;5;241m=\u001B[39m \u001B[38;5;28;01mFalse\u001B[39;00m\n\u001B[1;32m    380\u001B[0m op \u001B[38;5;241m=\u001B[39m _Concatenator(\n\u001B[1;32m    381\u001B[0m     objs,\n\u001B[1;32m    382\u001B[0m     axis\u001B[38;5;241m=\u001B[39maxis,\n\u001B[0;32m   (...)\u001B[0m\n\u001B[1;32m    390\u001B[0m     sort\u001B[38;5;241m=\u001B[39msort,\n\u001B[1;32m    391\u001B[0m )\n\u001B[0;32m--> 393\u001B[0m \u001B[38;5;28;01mreturn\u001B[39;00m \u001B[43mop\u001B[49m\u001B[38;5;241;43m.\u001B[39;49m\u001B[43mget_result\u001B[49m\u001B[43m(\u001B[49m\u001B[43m)\u001B[49m\n",
      "File \u001B[0;32m/Library/Frameworks/Python.framework/Versions/3.11/lib/python3.11/site-packages/pandas/core/reshape/concat.py:667\u001B[0m, in \u001B[0;36m_Concatenator.get_result\u001B[0;34m(self)\u001B[0m\n\u001B[1;32m    665\u001B[0m \u001B[38;5;28;01mfor\u001B[39;00m obj \u001B[38;5;129;01min\u001B[39;00m \u001B[38;5;28mself\u001B[39m\u001B[38;5;241m.\u001B[39mobjs:\n\u001B[1;32m    666\u001B[0m     indexers \u001B[38;5;241m=\u001B[39m {}\n\u001B[0;32m--> 667\u001B[0m     \u001B[38;5;28;01mfor\u001B[39;00m ax, new_labels \u001B[38;5;129;01min\u001B[39;00m \u001B[38;5;28menumerate\u001B[39m(\u001B[38;5;28;43mself\u001B[39;49m\u001B[38;5;241;43m.\u001B[39;49m\u001B[43mnew_axes\u001B[49m):\n\u001B[1;32m    668\u001B[0m         \u001B[38;5;66;03m# ::-1 to convert BlockManager ax to DataFrame ax\u001B[39;00m\n\u001B[1;32m    669\u001B[0m         \u001B[38;5;28;01mif\u001B[39;00m ax \u001B[38;5;241m==\u001B[39m \u001B[38;5;28mself\u001B[39m\u001B[38;5;241m.\u001B[39mbm_axis:\n\u001B[1;32m    670\u001B[0m             \u001B[38;5;66;03m# Suppress reindexing on concat axis\u001B[39;00m\n\u001B[1;32m    671\u001B[0m             \u001B[38;5;28;01mcontinue\u001B[39;00m\n",
      "File \u001B[0;32mproperties.pyx:36\u001B[0m, in \u001B[0;36mpandas._libs.properties.CachedProperty.__get__\u001B[0;34m()\u001B[0m\n",
      "File \u001B[0;32m/Library/Frameworks/Python.framework/Versions/3.11/lib/python3.11/site-packages/pandas/core/reshape/concat.py:698\u001B[0m, in \u001B[0;36m_Concatenator.new_axes\u001B[0;34m(self)\u001B[0m\n\u001B[1;32m    695\u001B[0m \u001B[38;5;129m@cache_readonly\u001B[39m\n\u001B[1;32m    696\u001B[0m \u001B[38;5;28;01mdef\u001B[39;00m \u001B[38;5;21mnew_axes\u001B[39m(\u001B[38;5;28mself\u001B[39m) \u001B[38;5;241m-\u001B[39m\u001B[38;5;241m>\u001B[39m \u001B[38;5;28mlist\u001B[39m[Index]:\n\u001B[1;32m    697\u001B[0m     ndim \u001B[38;5;241m=\u001B[39m \u001B[38;5;28mself\u001B[39m\u001B[38;5;241m.\u001B[39m_get_result_dim()\n\u001B[0;32m--> 698\u001B[0m     \u001B[38;5;28;01mreturn\u001B[39;00m \u001B[43m[\u001B[49m\n\u001B[1;32m    699\u001B[0m \u001B[43m        \u001B[49m\u001B[38;5;28;43mself\u001B[39;49m\u001B[38;5;241;43m.\u001B[39;49m\u001B[43m_get_concat_axis\u001B[49m\u001B[43m \u001B[49m\u001B[38;5;28;43;01mif\u001B[39;49;00m\u001B[43m \u001B[49m\u001B[43mi\u001B[49m\u001B[43m \u001B[49m\u001B[38;5;241;43m==\u001B[39;49m\u001B[43m \u001B[49m\u001B[38;5;28;43mself\u001B[39;49m\u001B[38;5;241;43m.\u001B[39;49m\u001B[43mbm_axis\u001B[49m\u001B[43m \u001B[49m\u001B[38;5;28;43;01melse\u001B[39;49;00m\u001B[43m \u001B[49m\u001B[38;5;28;43mself\u001B[39;49m\u001B[38;5;241;43m.\u001B[39;49m\u001B[43m_get_comb_axis\u001B[49m\u001B[43m(\u001B[49m\u001B[43mi\u001B[49m\u001B[43m)\u001B[49m\n\u001B[1;32m    700\u001B[0m \u001B[43m        \u001B[49m\u001B[38;5;28;43;01mfor\u001B[39;49;00m\u001B[43m \u001B[49m\u001B[43mi\u001B[49m\u001B[43m \u001B[49m\u001B[38;5;129;43;01min\u001B[39;49;00m\u001B[43m \u001B[49m\u001B[38;5;28;43mrange\u001B[39;49m\u001B[43m(\u001B[49m\u001B[43mndim\u001B[49m\u001B[43m)\u001B[49m\n\u001B[1;32m    701\u001B[0m \u001B[43m    \u001B[49m\u001B[43m]\u001B[49m\n",
      "File \u001B[0;32m/Library/Frameworks/Python.framework/Versions/3.11/lib/python3.11/site-packages/pandas/core/reshape/concat.py:699\u001B[0m, in \u001B[0;36m<listcomp>\u001B[0;34m(.0)\u001B[0m\n\u001B[1;32m    695\u001B[0m \u001B[38;5;129m@cache_readonly\u001B[39m\n\u001B[1;32m    696\u001B[0m \u001B[38;5;28;01mdef\u001B[39;00m \u001B[38;5;21mnew_axes\u001B[39m(\u001B[38;5;28mself\u001B[39m) \u001B[38;5;241m-\u001B[39m\u001B[38;5;241m>\u001B[39m \u001B[38;5;28mlist\u001B[39m[Index]:\n\u001B[1;32m    697\u001B[0m     ndim \u001B[38;5;241m=\u001B[39m \u001B[38;5;28mself\u001B[39m\u001B[38;5;241m.\u001B[39m_get_result_dim()\n\u001B[1;32m    698\u001B[0m     \u001B[38;5;28;01mreturn\u001B[39;00m [\n\u001B[0;32m--> 699\u001B[0m         \u001B[38;5;28mself\u001B[39m\u001B[38;5;241m.\u001B[39m_get_concat_axis \u001B[38;5;28;01mif\u001B[39;00m i \u001B[38;5;241m==\u001B[39m \u001B[38;5;28mself\u001B[39m\u001B[38;5;241m.\u001B[39mbm_axis \u001B[38;5;28;01melse\u001B[39;00m \u001B[38;5;28;43mself\u001B[39;49m\u001B[38;5;241;43m.\u001B[39;49m\u001B[43m_get_comb_axis\u001B[49m\u001B[43m(\u001B[49m\u001B[43mi\u001B[49m\u001B[43m)\u001B[49m\n\u001B[1;32m    700\u001B[0m         \u001B[38;5;28;01mfor\u001B[39;00m i \u001B[38;5;129;01min\u001B[39;00m \u001B[38;5;28mrange\u001B[39m(ndim)\n\u001B[1;32m    701\u001B[0m     ]\n",
      "File \u001B[0;32m/Library/Frameworks/Python.framework/Versions/3.11/lib/python3.11/site-packages/pandas/core/reshape/concat.py:705\u001B[0m, in \u001B[0;36m_Concatenator._get_comb_axis\u001B[0;34m(self, i)\u001B[0m\n\u001B[1;32m    703\u001B[0m \u001B[38;5;28;01mdef\u001B[39;00m \u001B[38;5;21m_get_comb_axis\u001B[39m(\u001B[38;5;28mself\u001B[39m, i: AxisInt) \u001B[38;5;241m-\u001B[39m\u001B[38;5;241m>\u001B[39m Index:\n\u001B[1;32m    704\u001B[0m     data_axis \u001B[38;5;241m=\u001B[39m \u001B[38;5;28mself\u001B[39m\u001B[38;5;241m.\u001B[39mobjs[\u001B[38;5;241m0\u001B[39m]\u001B[38;5;241m.\u001B[39m_get_block_manager_axis(i)\n\u001B[0;32m--> 705\u001B[0m     \u001B[38;5;28;01mreturn\u001B[39;00m \u001B[43mget_objs_combined_axis\u001B[49m\u001B[43m(\u001B[49m\n\u001B[1;32m    706\u001B[0m \u001B[43m        \u001B[49m\u001B[38;5;28;43mself\u001B[39;49m\u001B[38;5;241;43m.\u001B[39;49m\u001B[43mobjs\u001B[49m\u001B[43m,\u001B[49m\n\u001B[1;32m    707\u001B[0m \u001B[43m        \u001B[49m\u001B[43maxis\u001B[49m\u001B[38;5;241;43m=\u001B[39;49m\u001B[43mdata_axis\u001B[49m\u001B[43m,\u001B[49m\n\u001B[1;32m    708\u001B[0m \u001B[43m        \u001B[49m\u001B[43mintersect\u001B[49m\u001B[38;5;241;43m=\u001B[39;49m\u001B[38;5;28;43mself\u001B[39;49m\u001B[38;5;241;43m.\u001B[39;49m\u001B[43mintersect\u001B[49m\u001B[43m,\u001B[49m\n\u001B[1;32m    709\u001B[0m \u001B[43m        \u001B[49m\u001B[43msort\u001B[49m\u001B[38;5;241;43m=\u001B[39;49m\u001B[38;5;28;43mself\u001B[39;49m\u001B[38;5;241;43m.\u001B[39;49m\u001B[43msort\u001B[49m\u001B[43m,\u001B[49m\n\u001B[1;32m    710\u001B[0m \u001B[43m        \u001B[49m\u001B[43mcopy\u001B[49m\u001B[38;5;241;43m=\u001B[39;49m\u001B[38;5;28;43mself\u001B[39;49m\u001B[38;5;241;43m.\u001B[39;49m\u001B[43mcopy\u001B[49m\u001B[43m,\u001B[49m\n\u001B[1;32m    711\u001B[0m \u001B[43m    \u001B[49m\u001B[43m)\u001B[49m\n",
      "File \u001B[0;32m/Library/Frameworks/Python.framework/Versions/3.11/lib/python3.11/site-packages/pandas/core/indexes/api.py:102\u001B[0m, in \u001B[0;36mget_objs_combined_axis\u001B[0;34m(objs, intersect, axis, sort, copy)\u001B[0m\n\u001B[1;32m     72\u001B[0m \u001B[38;5;28;01mdef\u001B[39;00m \u001B[38;5;21mget_objs_combined_axis\u001B[39m(\n\u001B[1;32m     73\u001B[0m     objs,\n\u001B[1;32m     74\u001B[0m     intersect: \u001B[38;5;28mbool\u001B[39m \u001B[38;5;241m=\u001B[39m \u001B[38;5;28;01mFalse\u001B[39;00m,\n\u001B[0;32m   (...)\u001B[0m\n\u001B[1;32m     77\u001B[0m     copy: \u001B[38;5;28mbool\u001B[39m \u001B[38;5;241m=\u001B[39m \u001B[38;5;28;01mFalse\u001B[39;00m,\n\u001B[1;32m     78\u001B[0m ) \u001B[38;5;241m-\u001B[39m\u001B[38;5;241m>\u001B[39m Index:\n\u001B[1;32m     79\u001B[0m \u001B[38;5;250m    \u001B[39m\u001B[38;5;124;03m\"\"\"\u001B[39;00m\n\u001B[1;32m     80\u001B[0m \u001B[38;5;124;03m    Extract combined index: return intersection or union (depending on the\u001B[39;00m\n\u001B[1;32m     81\u001B[0m \u001B[38;5;124;03m    value of \"intersect\") of indexes on given axis, or None if all objects\u001B[39;00m\n\u001B[0;32m   (...)\u001B[0m\n\u001B[1;32m    100\u001B[0m \u001B[38;5;124;03m    Index\u001B[39;00m\n\u001B[1;32m    101\u001B[0m \u001B[38;5;124;03m    \"\"\"\u001B[39;00m\n\u001B[0;32m--> 102\u001B[0m     obs_idxes \u001B[38;5;241m=\u001B[39m \u001B[43m[\u001B[49m\u001B[43mobj\u001B[49m\u001B[38;5;241;43m.\u001B[39;49m\u001B[43m_get_axis\u001B[49m\u001B[43m(\u001B[49m\u001B[43maxis\u001B[49m\u001B[43m)\u001B[49m\u001B[43m \u001B[49m\u001B[38;5;28;43;01mfor\u001B[39;49;00m\u001B[43m \u001B[49m\u001B[43mobj\u001B[49m\u001B[43m \u001B[49m\u001B[38;5;129;43;01min\u001B[39;49;00m\u001B[43m \u001B[49m\u001B[43mobjs\u001B[49m\u001B[43m]\u001B[49m\n\u001B[1;32m    103\u001B[0m     \u001B[38;5;28;01mreturn\u001B[39;00m _get_combined_index(obs_idxes, intersect\u001B[38;5;241m=\u001B[39mintersect, sort\u001B[38;5;241m=\u001B[39msort, copy\u001B[38;5;241m=\u001B[39mcopy)\n",
      "File \u001B[0;32m/Library/Frameworks/Python.framework/Versions/3.11/lib/python3.11/site-packages/pandas/core/indexes/api.py:102\u001B[0m, in \u001B[0;36m<listcomp>\u001B[0;34m(.0)\u001B[0m\n\u001B[1;32m     72\u001B[0m \u001B[38;5;28;01mdef\u001B[39;00m \u001B[38;5;21mget_objs_combined_axis\u001B[39m(\n\u001B[1;32m     73\u001B[0m     objs,\n\u001B[1;32m     74\u001B[0m     intersect: \u001B[38;5;28mbool\u001B[39m \u001B[38;5;241m=\u001B[39m \u001B[38;5;28;01mFalse\u001B[39;00m,\n\u001B[0;32m   (...)\u001B[0m\n\u001B[1;32m     77\u001B[0m     copy: \u001B[38;5;28mbool\u001B[39m \u001B[38;5;241m=\u001B[39m \u001B[38;5;28;01mFalse\u001B[39;00m,\n\u001B[1;32m     78\u001B[0m ) \u001B[38;5;241m-\u001B[39m\u001B[38;5;241m>\u001B[39m Index:\n\u001B[1;32m     79\u001B[0m \u001B[38;5;250m    \u001B[39m\u001B[38;5;124;03m\"\"\"\u001B[39;00m\n\u001B[1;32m     80\u001B[0m \u001B[38;5;124;03m    Extract combined index: return intersection or union (depending on the\u001B[39;00m\n\u001B[1;32m     81\u001B[0m \u001B[38;5;124;03m    value of \"intersect\") of indexes on given axis, or None if all objects\u001B[39;00m\n\u001B[0;32m   (...)\u001B[0m\n\u001B[1;32m    100\u001B[0m \u001B[38;5;124;03m    Index\u001B[39;00m\n\u001B[1;32m    101\u001B[0m \u001B[38;5;124;03m    \"\"\"\u001B[39;00m\n\u001B[0;32m--> 102\u001B[0m     obs_idxes \u001B[38;5;241m=\u001B[39m [obj\u001B[38;5;241m.\u001B[39m_get_axis(axis) \u001B[38;5;28;01mfor\u001B[39;00m obj \u001B[38;5;129;01min\u001B[39;00m objs]\n\u001B[1;32m    103\u001B[0m     \u001B[38;5;28;01mreturn\u001B[39;00m _get_combined_index(obs_idxes, intersect\u001B[38;5;241m=\u001B[39mintersect, sort\u001B[38;5;241m=\u001B[39msort, copy\u001B[38;5;241m=\u001B[39mcopy)\n",
      "\u001B[0;31mKeyboardInterrupt\u001B[0m: "
     ]
    }
   ],
   "source": [
    "\n",
    "\n",
    "from datetime import datetime\n",
    "\n",
    "start_date = '2016-06-10 16:50:00+00:00'\n",
    "end_date = '2023-09-12 00:00:00+00:00'\n",
    "\n",
    "columns1 = ['time', 'P_l']\n",
    "df_P_l = pd.DataFrame(columns=columns1)\n",
    "\n",
    "columns2 = ['time', 'P_pv', 'P_fu', 'P_fs', 'P_tu', 'P_ts', 'P_l']\n",
    "df_general = pd.DataFrame(columns=columns2)\n",
    "\n",
    "iteration_date = start_date\n",
    "time_delta = pd.Timedelta(minutes=5)\n",
    "\n",
    "while iteration_date < end_date:\n",
    "    P_pv = g_pp_df['pv_production'][iteration_date]\n",
    "    P_fu = g_gc_df['grid_consumption'][iteration_date]\n",
    "    P_fs = g_apfs_df['ac_power_from_storage'][iteration_date]\n",
    "    P_tu = g_gf_df['grid_feed'][iteration_date]\n",
    "    P_ts = g_apts_df['ac_power_to_storage'][iteration_date]\n",
    "    \n",
    "    P_l = P_pv + P_fu + P_fs - (P_tu + P_ts)\n",
    "    \n",
    "    new_row1 = {'time': iteration_date, 'P_l': P_l}\n",
    "    new_row2 = {\n",
    "        'time': iteration_date,\n",
    "        'P_pv': P_pv, 'P_fu': P_fu, \n",
    "        'P_fs': P_fs, 'P_tu': P_tu, \n",
    "        'P_ts': P_ts, 'P_l': P_l\n",
    "    }\n",
    "    df_P_l = pd.concat([df_P_l, pd.DataFrame([new_row1])], ignore_index=True)\n",
    "    df_general = pd.concat([df_general, pd.DataFrame([new_row2])], ignore_index=True)\n",
    "    \n",
    "    iteration_date = datetime.strptime(iteration_date, '%Y-%m-%d %H:%M:%S%z')\n",
    "    iteration_date += time_delta\n",
    "    iteration_date = iteration_date.strftime('%Y-%m-%d %H:%M:%S%z')"
   ],
   "metadata": {
    "collapsed": false,
    "ExecuteTime": {
     "end_time": "2023-09-13T20:01:14.988925Z",
     "start_time": "2023-09-13T20:01:07.441368Z"
    }
   },
   "id": "a41135f351f6c11a"
  },
  {
   "cell_type": "code",
   "execution_count": 7,
   "outputs": [],
   "source": [
    "df_P_l['P_l'] = df_P_l['P_l'].round(3)\n",
    "df_general['P_l'] = df_general['P_l'].round(3)\n",
    "\n",
    "df_P_l.to_csv(r'result/P_l.csv', index=False)\n",
    "df_general.to_csv(r'result/general.csv', index=False)"
   ],
   "metadata": {
    "collapsed": false,
    "ExecuteTime": {
     "end_time": "2023-09-13T20:05:39.294401Z",
     "start_time": "2023-09-13T20:05:39.206395Z"
    }
   },
   "id": "bf05801acaa69c21"
  },
  {
   "cell_type": "code",
   "execution_count": null,
   "outputs": [],
   "source": [],
   "metadata": {
    "collapsed": false
   },
   "id": "283cefbb4b34fcd0"
  }
 ],
 "metadata": {
  "kernelspec": {
   "display_name": "Python 3",
   "language": "python",
   "name": "python3"
  },
  "language_info": {
   "codemirror_mode": {
    "name": "ipython",
    "version": 2
   },
   "file_extension": ".py",
   "mimetype": "text/x-python",
   "name": "python",
   "nbconvert_exporter": "python",
   "pygments_lexer": "ipython2",
   "version": "2.7.6"
  }
 },
 "nbformat": 4,
 "nbformat_minor": 5
}
