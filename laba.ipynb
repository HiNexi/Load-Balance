{
 "cells": [
  {
   "cell_type": "code",
   "execution_count": 2,
   "id": "49fc70e2-5935-4395-aefd-407bcc8d83f7",
   "metadata": {},
   "outputs": [
    {
     "name": "stderr",
     "output_type": "stream",
     "text": [
      "C:\\Users\\user\\AppData\\Local\\Temp\\ipykernel_7000\\3238734049.py:10: FutureWarning: Setting an item of incompatible dtype is deprecated and will raise in a future error of pandas. Value 'null' has dtype incompatible with float64, please explicitly cast to a compatible dtype first.\n",
      "  df.at[i, fname] = \"null\"\n"
     ]
    },
    {
     "name": "stdout",
     "output_type": "stream",
     "text": [
      "ac_power_from_storage done\n"
     ]
    },
    {
     "name": "stderr",
     "output_type": "stream",
     "text": [
      "C:\\Users\\user\\AppData\\Local\\Temp\\ipykernel_7000\\3238734049.py:10: FutureWarning: Setting an item of incompatible dtype is deprecated and will raise in a future error of pandas. Value 'null' has dtype incompatible with float64, please explicitly cast to a compatible dtype first.\n",
      "  df.at[i, fname] = \"null\"\n"
     ]
    },
    {
     "name": "stdout",
     "output_type": "stream",
     "text": [
      "ac_power_to_storage done\n"
     ]
    },
    {
     "name": "stderr",
     "output_type": "stream",
     "text": [
      "C:\\Users\\user\\AppData\\Local\\Temp\\ipykernel_7000\\3238734049.py:10: FutureWarning: Setting an item of incompatible dtype is deprecated and will raise in a future error of pandas. Value 'null' has dtype incompatible with float64, please explicitly cast to a compatible dtype first.\n",
      "  df.at[i, fname] = \"null\"\n"
     ]
    },
    {
     "name": "stdout",
     "output_type": "stream",
     "text": [
      "grid_consumption done\n"
     ]
    },
    {
     "name": "stderr",
     "output_type": "stream",
     "text": [
      "C:\\Users\\user\\AppData\\Local\\Temp\\ipykernel_7000\\3238734049.py:10: FutureWarning: Setting an item of incompatible dtype is deprecated and will raise in a future error of pandas. Value 'null' has dtype incompatible with float64, please explicitly cast to a compatible dtype first.\n",
      "  df.at[i, fname] = \"null\"\n"
     ]
    },
    {
     "name": "stdout",
     "output_type": "stream",
     "text": [
      "pv_production done\n"
     ]
    },
    {
     "name": "stderr",
     "output_type": "stream",
     "text": [
      "C:\\Users\\user\\AppData\\Local\\Temp\\ipykernel_7000\\3238734049.py:10: FutureWarning: Setting an item of incompatible dtype is deprecated and will raise in a future error of pandas. Value 'null' has dtype incompatible with float64, please explicitly cast to a compatible dtype first.\n",
      "  df.at[i, fname] = \"null\"\n"
     ]
    },
    {
     "name": "stdout",
     "output_type": "stream",
     "text": [
      "grid_feed done\n",
      "done all\n"
     ]
    }
   ],
   "source": [
    "import pandas as pd\n",
    "\n",
    "def change_to_null(fname):\n",
    "    df = pd.read_csv(fname + \".csv\")\n",
    "\n",
    "    for i, row in df.iterrows():\n",
    "        if row[fname] == 0.0:\n",
    "            df.at[i, fname] = \"null\"\n",
    "\n",
    "    df.to_csv(fname + \"_new.csv\", index=False)\n",
    "\n",
    "    print(\"%s done\" % fname)\n",
    "\n",
    "change_to_null(\"ac_power_from_storage\")\n",
    "change_to_null(\"ac_power_to_storage\")\n",
    "change_to_null(\"grid_consumption\")\n",
    "change_to_null(\"pv_production\")\n",
    "change_to_null(\"grid_feed\")\n",
    "print(\"done all\")"
   ]
  },
  {
   "cell_type": "code",
   "execution_count": null,
   "id": "5271db75-e891-4cfe-bd8f-6badb76a2ae6",
   "metadata": {},
   "outputs": [],
   "source": []
  }
 ],
 "metadata": {
  "kernelspec": {
   "display_name": "Python 3 (ipykernel)",
   "language": "python",
   "name": "python3"
  },
  "language_info": {
   "codemirror_mode": {
    "name": "ipython",
    "version": 3
   },
   "file_extension": ".py",
   "mimetype": "text/x-python",
   "name": "python",
   "nbconvert_exporter": "python",
   "pygments_lexer": "ipython3",
   "version": "3.11.5"
  }
 },
 "nbformat": 4,
 "nbformat_minor": 5
}
