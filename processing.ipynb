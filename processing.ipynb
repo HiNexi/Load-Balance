{
 "cells": [
  {
   "cell_type": "code",
   "execution_count": 1,
   "id": "initial_id",
   "metadata": {
    "ExecuteTime": {
     "end_time": "2023-09-13T20:00:57.230805Z",
     "start_time": "2023-09-13T20:00:55.193558Z"
    }
   },
   "outputs": [],
   "source": [
    "import pandas as pd\n",
    "\n",
    "apfs_df = pd.read_csv(r'Initial_data/ac_power_from_storage.csv')\n",
    "apts_df = pd.read_csv(r'Initial_data/ac_power_to_storage.csv')\n",
    "gc_df = pd.read_csv(r'Initial_data/grid_consumption.csv')\n",
    "gf_df = pd.read_csv(r'Initial_data/grid_feed.csv')\n",
    "pp_df = pd.read_csv(r'Initial_data/pv_production.csv')\n"
   ]
  },
  {
   "cell_type": "markdown",
   "id": "d82b76ca2ebf878e",
   "metadata": {
    "collapsed": false,
    "jupyter": {
     "outputs_hidden": false
    }
   },
   "source": []
  },
  {
   "cell_type": "code",
   "execution_count": 2,
   "id": "3ad73b87351bba15",
   "metadata": {
    "ExecuteTime": {
     "end_time": "2023-09-13T20:01:07.249390Z",
     "start_time": "2023-09-13T20:00:57.214326Z"
    },
    "collapsed": false,
    "jupyter": {
     "outputs_hidden": false
    }
   },
   "outputs": [],
   "source": [
    "'''Convert the time column to a time type'''\n",
    "\n",
    "apfs_df['time'] = pd.to_datetime(apfs_df['time'])\n",
    "apts_df['time'] = pd.to_datetime(apts_df['time'])\n",
    "gc_df['time'] = pd.to_datetime(gc_df['time'])\n",
    "gf_df['time'] = pd.to_datetime(gf_df['time'])\n",
    "pp_df['time'] = pd.to_datetime(pp_df['time'])\n",
    "\n",
    "'''Set the time as an index'''\n",
    "\n",
    "apfs_df.set_index('time', inplace=True)\n",
    "apts_df.set_index('time', inplace=True)\n",
    "gc_df.set_index('time', inplace=True)\n",
    "gf_df.set_index('time', inplace=True)\n",
    "pp_df.set_index('time', inplace=True)\n",
    "\n",
    "\n",
    "'''Convert the column of values to float type'''\n",
    "\n",
    "apfs_df['ac_power_from_storage'] = apfs_df['ac_power_from_storage'].astype(float)\n",
    "apts_df['ac_power_to_storage'] = apts_df['ac_power_to_storage'].astype(float)\n",
    "gc_df['grid_consumption'] = gc_df['grid_consumption'].astype(float)\n",
    "gf_df['grid_feed'] = gf_df['grid_feed'].astype(float)\n",
    "pp_df['pv_production'] = pp_df['pv_production'].astype(float)\n"
   ]
  },
  {
   "cell_type": "code",
   "execution_count": 3,
   "id": "6ce6a43f1093d373",
   "metadata": {
    "ExecuteTime": {
     "end_time": "2023-09-13T20:01:07.404639Z",
     "start_time": "2023-09-13T20:01:07.250768Z"
    },
    "collapsed": false,
    "jupyter": {
     "outputs_hidden": false
    }
   },
   "outputs": [],
   "source": [
    "'''Group the time to get equal intervals'''\n",
    "\n",
    "time_group = '5T' # grouping interval 5 minutes\n",
    "\n",
    "g_apfs_df = apfs_df.resample('5T').sum()\n",
    "g_apts_df = apts_df.resample('5T').sum()\n",
    "g_gc_df = gc_df.resample('5T').sum()\n",
    "g_gf_df = gf_df.resample('5T').sum()\n",
    "g_pp_df = pp_df.resample('5T').sum()\n"
   ]
  },
  {
   "cell_type": "code",
   "execution_count": null,
   "id": "a41135f351f6c11a",
   "metadata": {
    "ExecuteTime": {
     "end_time": "2023-09-13T20:01:14.988925Z",
     "start_time": "2023-09-13T20:01:07.441368Z"
    },
    "collapsed": false,
    "jupyter": {
     "outputs_hidden": false
    }
   },
   "outputs": [
    {
     "name": "stderr",
     "output_type": "stream",
     "text": [
      "C:\\Users\\user\\AppData\\Local\\Temp\\ipykernel_4468\\3216394302.py:31: FutureWarning: The behavior of DataFrame concatenation with empty or all-NA entries is deprecated. In a future version, this will no longer exclude empty or all-NA columns when determining the result dtypes. To retain the old behavior, exclude the relevant entries before the concat operation.\n",
      "  df_P_l = pd.concat([df_P_l, pd.DataFrame([new_row1])], ignore_index=True)\n",
      "C:\\Users\\user\\AppData\\Local\\Temp\\ipykernel_4468\\3216394302.py:32: FutureWarning: The behavior of DataFrame concatenation with empty or all-NA entries is deprecated. In a future version, this will no longer exclude empty or all-NA columns when determining the result dtypes. To retain the old behavior, exclude the relevant entries before the concat operation.\n",
      "  df_general = pd.concat([df_general, pd.DataFrame([new_row2])], ignore_index=True)\n"
     ]
    }
   ],
   "source": [
    "\n",
    "\n",
    "from datetime import datetime\n",
    "\n",
    "start_date = '2016-06-10 16:50:00+00:00'\n",
    "end_date = '2023-09-09 00:00:00+00:00'\n",
    "\n",
    "columns1 = ['time', 'P_l']\n",
    "df_P_l = pd.DataFrame(columns=columns1)\n",
    "\n",
    "columns2 = ['time', 'P_pv', 'P_fu', 'P_fs', 'P_tu', 'P_ts', 'P_l']\n",
    "df_general = pd.DataFrame(columns=columns2)\n",
    "\n",
    "iteration_date = start_date\n",
    "time_delta = pd.Timedelta(minutes=5)\n",
    "\n",
    "while iteration_date < end_date:\n",
    "    P_pv = g_pp_df['pv_production'][iteration_date]\n",
    "    P_fu = g_gc_df['grid_consumption'][iteration_date]\n",
    "    P_fs = g_apfs_df['ac_power_from_storage'][iteration_date]\n",
    "    P_tu = g_gf_df['grid_feed'][iteration_date]\n",
    "    P_ts = g_apts_df['ac_power_to_storage'][iteration_date]\n",
    "    \n",
    "    P_l = P_pv + P_fu + P_fs - (P_tu + P_ts)\n",
    "    \n",
    "    new_row1 = {'time': iteration_date, 'P_l': P_l}\n",
    "    new_row2 = {\n",
    "        'time': iteration_date,\n",
    "        'P_pv': P_pv, 'P_fu': P_fu, \n",
    "        'P_fs': P_fs, 'P_tu': P_tu, \n",
    "        'P_ts': P_ts, 'P_l': P_l\n",
    "    }\n",
    "    df_P_l = pd.concat([df_P_l, pd.DataFrame([new_row1])], ignore_index=True)\n",
    "    df_general = pd.concat([df_general, pd.DataFrame([new_row2])], ignore_index=True)\n",
    "    \n",
    "    iteration_date = datetime.strptime(iteration_date, '%Y-%m-%d %H:%M:%S%z')\n",
    "    iteration_date += time_delta\n",
    "    iteration_date = iteration_date.strftime('%Y-%m-%d %H:%M:%S%z')"
   ]
  },
  {
   "cell_type": "code",
   "execution_count": null,
   "id": "bf05801acaa69c21",
   "metadata": {
    "ExecuteTime": {
     "end_time": "2023-09-13T20:05:39.294401Z",
     "start_time": "2023-09-13T20:05:39.206395Z"
    },
    "collapsed": false,
    "jupyter": {
     "outputs_hidden": false
    }
   },
   "outputs": [],
   "source": [
    "df_P_l['P_l'] = df_P_l['P_l'].round(3)\n",
    "df_general['P_l'] = df_general['P_l'].round(3)\n",
    "\n",
    "df_P_l.to_csv(r'result/P_l.csv', index=False)\n",
    "df_general.to_csv(r'result/general.csv', index=False)"
   ]
  },
  {
   "cell_type": "code",
   "execution_count": null,
   "id": "283cefbb4b34fcd0",
   "metadata": {
    "collapsed": false,
    "jupyter": {
     "outputs_hidden": false
    }
   },
   "outputs": [],
   "source": [
    "'''Updated version of code. Optimize the calculation loop using vectorized operations'''\n",
    "\n",
    "import numpy as np\n",
    "\n",
    "# Create an empty DataFrame with the time index\n",
    "index = pd.date_range(start_date, end_date, freq='5T')\n",
    "df_general = pd.DataFrame(index=index)\n",
    "\n",
    "# Calculate the components\n",
    "df_general['P_pv'] = g_pp_df['pv_production']\n",
    "df_general['P_fu'] = g_gc_df['grid_consumption']\n",
    "df_general['P_fs'] = g_apfs_df['ac_power_from_storage']\n",
    "df_general['P_tu'] = g_gf_df['grid_feed']\n",
    "df_general['P_ts'] = g_apts_df['ac_power_to_storage']\n",
    "\n",
    "# Calculate P_l in one go\n",
    "df_general['P_l'] = df_general['P_pv'] + df_general['P_fu'] + df_general['P_fs'] - (df_general['P_tu'] + df_general['P_ts'])\n",
    "\n",
    "# Round the 'P_l' column\n",
    "df_general['P_l'] = df_general['P_l'].round(3)\n",
    "\n",
    "# Save the DataFrame to CSV\n",
    "df_general.to_csv(r'result/general.csv')\n"
   ]
  },
  {
   "cell_type": "code",
   "execution_count": 1,
   "id": "cdbe6b22",
   "metadata": {},
   "outputs": [],
   "source": [
    "import pandas as pd\n",
    "import matplotlib.pyplot as plt\n",
    "data = pd.read_csv(r'result/general.csv')\n",
    " \n",
    "#for index, row in data.iterrows:\n",
    "    #plt.plot(index, row['P_pv'])\n",
    "    #plt.plot(index, row['P_fu'])\n",
    "    #plt.plot(index, row['P_fs'])\n",
    "    #plt.plot(index, row['P_tu'])\n",
    "    #plt.plot(index, row['P_ts'])\n",
    "fig, axes = plt.subplots(nrows=5, ncols=1, figsize=(8, 16))\n",
    "for ax in axes:\n",
    "    x = [data.index, data.index, data.index, data.index, data.index]\n",
    "    y = [data['P_pv'], data['P_fu'], data['P_fs'], data['P_tu'], data['P_ts']]\n",
    "    ax.set_xlabel('X')\n",
    "    ax.set_ylabel('Y')\n",
    "    ax.plot(x, y)\n",
    "    \n",
    "plt.show()"
   ]
  }
 ],
 "metadata": {
  "kernelspec": {
   "display_name": "Python 3 (ipykernel)",
   "language": "python",
   "name": "python3"
  },
  "language_info": {
   "codemirror_mode": {
    "name": "ipython",
    "version": 3
   },
   "file_extension": ".py",
   "mimetype": "text/x-python",
   "name": "python",
   "nbconvert_exporter": "python",
   "pygments_lexer": "ipython3",
   "version": "3.11.4"
  }
 },
 "nbformat": 4,
 "nbformat_minor": 5
}
